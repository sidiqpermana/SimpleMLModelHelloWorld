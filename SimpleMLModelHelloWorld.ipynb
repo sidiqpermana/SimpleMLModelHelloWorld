{
 "cells": [
  {
   "cell_type": "code",
   "execution_count": null,
   "metadata": {},
   "outputs": [],
   "source": [
    "import tensorflow as tf\n",
    "import numpy as np\n",
    "from tensorflow import keras\n",
    "\n",
    "from tensorflow.python.platform import tf_logging as logging\n",
    "logging.set_verbosity(logging.ERROR)\n",
    "print(tf.__version__)\n",
    "      \n",
    "model = tf.keras.Sequential([keras.layers.Dense(units=1, input_shape=[1])])\n",
    "      \n",
    "model.compile(loss='mean_squared_error',\n",
    "              optimizer=tf.keras.optimizers.Adam(0.1))\n",
    "\n",
    "xs = np.array([-40, -10,  0,  8, 15, 22,  38, 50],  dtype=float)\n",
    "ys = np.array([-40,  14, 32, 46, 59, 72, 100, 122],  dtype=float)\n",
    "\n",
    "model.fit(xs, ys, epochs=3000)"
   ]
  },
  {
   "cell_type": "code",
   "execution_count": 4,
   "metadata": {},
   "outputs": [],
   "source": [
    "from tensorflow.python.platform import tf_logging as logging\n",
    "logging.set_verbosity(logging.ERROR)\n",
    "\n",
    "\n",
    "saved_model_path = \"../ngajar/tmp/saved_models/f2c\"\n",
    "\n",
    "# For TensorFlow 2.0 use this:\n",
    "#tf.keras.experimental.export_saved_model(model, saved_model_path)\n",
    "\n",
    "# For TensorFlow 1.x use this:\n",
    "tf.contrib.saved_model.save_keras_model(model, saved_model_path)"
   ]
  },
  {
   "cell_type": "code",
   "execution_count": 5,
   "metadata": {},
   "outputs": [
    {
     "data": {
      "text/plain": [
       "612"
      ]
     },
     "execution_count": 5,
     "metadata": {},
     "output_type": "execute_result"
    }
   ],
   "source": [
    "saved_model_dir = \"../ngajar/tmp/saved_models/f2c\"\n",
    "converter = tf.lite.TFLiteConverter.from_saved_model(saved_model_dir)\n",
    "tflite_model = converter.convert()\n",
    "open(\"../ngajar/tmp/model.tflite\", \"wb\").write(tflite_model)"
   ]
  },
  {
   "cell_type": "code",
   "execution_count": 3,
   "metadata": {},
   "outputs": [
    {
     "name": "stdout",
     "output_type": "stream",
     "text": [
      "[[172.28465]]\n"
     ]
    }
   ],
   "source": [
    "print(model.predict([78.0]))"
   ]
  }
 ],
 "metadata": {
  "kernelspec": {
   "display_name": "Python 3",
   "language": "python",
   "name": "python3"
  },
  "language_info": {
   "codemirror_mode": {
    "name": "ipython",
    "version": 3
   },
   "file_extension": ".py",
   "mimetype": "text/x-python",
   "name": "python",
   "nbconvert_exporter": "python",
   "pygments_lexer": "ipython3",
   "version": "3.7.3"
  }
 },
 "nbformat": 4,
 "nbformat_minor": 2
}
